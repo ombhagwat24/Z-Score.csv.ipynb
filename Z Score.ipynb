{
 "cells": [
  {
   "cell_type": "code",
   "execution_count": 1,
   "id": "facad75a",
   "metadata": {},
   "outputs": [],
   "source": [
    "from scipy import stats\n",
    "from scipy.stats import norm"
   ]
  },
  {
   "cell_type": "markdown",
   "id": "1a4ed89a",
   "metadata": {},
   "source": [
    "# Z-score for 5%"
   ]
  },
  {
   "cell_type": "code",
   "execution_count": 2,
   "id": "854165ae",
   "metadata": {},
   "outputs": [
    {
     "data": {
      "text/plain": [
       "-1.6448536269514729"
      ]
     },
     "execution_count": 2,
     "metadata": {},
     "output_type": "execute_result"
    }
   ],
   "source": [
    "stats.norm.ppf(.05)"
   ]
  },
  {
   "cell_type": "markdown",
   "id": "d5f0f523",
   "metadata": {},
   "source": [
    "# Z-score for 94%"
   ]
  },
  {
   "cell_type": "code",
   "execution_count": 3,
   "id": "42ab3902",
   "metadata": {},
   "outputs": [
    {
     "data": {
      "text/plain": [
       "1.5547735945968535"
      ]
     },
     "execution_count": 3,
     "metadata": {},
     "output_type": "execute_result"
    }
   ],
   "source": [
    "stats.norm.ppf(.94)"
   ]
  },
  {
   "cell_type": "markdown",
   "id": "c932b316",
   "metadata": {},
   "source": [
    "# Z-score for 99%"
   ]
  },
  {
   "cell_type": "code",
   "execution_count": 4,
   "id": "1e6fa3a7",
   "metadata": {},
   "outputs": [
    {
     "data": {
      "text/plain": [
       "2.3263478740408408"
      ]
     },
     "execution_count": 4,
     "metadata": {},
     "output_type": "execute_result"
    }
   ],
   "source": [
    "stats.norm.ppf(.99)"
   ]
  }
 ],
 "metadata": {
  "_draft": {
   "nbviewer_url": "https://gist.github.com/891e6cbfba54e194c19dde96758bc686"
  },
  "gist": {
   "data": {
    "description": "Zscore.ipynb",
    "public": false
   },
   "id": "891e6cbfba54e194c19dde96758bc686"
  },
  "kernelspec": {
   "display_name": "Python 3 (ipykernel)",
   "language": "python",
   "name": "python3"
  },
  "language_info": {
   "codemirror_mode": {
    "name": "ipython",
    "version": 3
   },
   "file_extension": ".py",
   "mimetype": "text/x-python",
   "name": "python",
   "nbconvert_exporter": "python",
   "pygments_lexer": "ipython3",
   "version": "3.9.7"
  }
 },
 "nbformat": 4,
 "nbformat_minor": 5
}
